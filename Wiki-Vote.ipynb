{
 "cells": [
  {
   "cell_type": "markdown",
   "metadata": {},
   "source": [
    "# Wiki Vote Direct Graph"
   ]
  },
  {
   "cell_type": "code",
   "execution_count": 1,
   "metadata": {
    "collapsed": false,
    "scrolled": false
   },
   "outputs": [],
   "source": [
    "%matplotlib inline\n",
    "import random\n",
    "import copy\n",
    "import matplotlib.pyplot as plt\n",
    "from dgraph import readGraph\n",
    "from lesson1 import averageClustering as ac\n",
    "from lesson2 import countEdges\n",
    "from lesson4 import topk\n",
    "from lesson4 import betweenness\n",
    "from lesson5 import eigenvector_centrality as ec\n",
    "from dgraph import randomDirectBalancedGraph as rdbg\n",
    "from dgraph import Page_Rank as pr\n",
    "from dgraph import fill_incoming as fi\n",
    "from dgraph import Independent_Cascade as ic\n",
    "from dgraph import toUndirect as und"
   ]
  },
  {
   "cell_type": "code",
   "execution_count": 2,
   "metadata": {
    "collapsed": true
   },
   "outputs": [],
   "source": [
    "def independent_cascade(graph, seed, centrality):\n",
    "    adopters, haters, steps = ic(g, seed)\n",
    "    print 'Independent Cascade Model: TOP %d %s' % (len(seed), centrality)\n",
    "    print '\\tFinal Adopters:\\t', len(adopters)\n",
    "    print '\\tFinal Haters:\\t', len(haters)\n",
    "    print '\\t# Iterations:\\t', steps\n",
    "    return len(adopters)"
   ]
  },
  {
   "cell_type": "markdown",
   "metadata": {},
   "source": [
    "## Set Parameters"
   ]
  },
  {
   "cell_type": "code",
   "execution_count": 3,
   "metadata": {
    "collapsed": false
   },
   "outputs": [],
   "source": [
    "seed = 100"
   ]
  },
  {
   "cell_type": "markdown",
   "metadata": {},
   "source": [
    "##Create a Random Direct Graph"
   ]
  },
  {
   "cell_type": "code",
   "execution_count": 4,
   "metadata": {
    "collapsed": false
   },
   "outputs": [
    {
     "name": "stdout",
     "output_type": "stream",
     "text": [
      "Edges = 51844Edges = 51844\n",
      "True\n",
      "False\n",
      "Average Clustering = 0.140898\n",
      "False\n",
      "False\n"
     ]
    }
   ],
   "source": [
    "g = readGraph('wiki-Vote.txt')\n",
    "old_g = copy.deepcopy(g)\n",
    "#g = rdbg(7115, 0.5, random.randint(75000, 125000))\n",
    "print 'Edges = %d'% countEdges(g)*2\n",
    "undg = und(g)\n",
    "print g==old_g\n",
    "print 'Average Clustering = %f' % ac(undg)\n",
    "print g==old_g\n",
    "fi(g)\n",
    "print g==old_g"
   ]
  },
  {
   "cell_type": "markdown",
   "metadata": {},
   "source": [
    "## Execute centrality measures"
   ]
  },
  {
   "cell_type": "code",
   "execution_count": 14,
   "metadata": {
    "collapsed": false
   },
   "outputs": [
    {
     "name": "stdout",
     "output_type": "stream",
     "text": [
      "Page Rank execution...\n"
     ]
    },
    {
     "ename": "Exception",
     "evalue": "Exceeded max number of iterations. Last error margin: 0.160555",
     "output_type": "error",
     "traceback": [
      "\u001b[0;31m---------------------------------------------------------------------------\u001b[0m",
      "\u001b[0;31mException\u001b[0m                                 Traceback (most recent call last)",
      "\u001b[0;32m<ipython-input-14-cb980c46b575>\u001b[0m in \u001b[0;36m<module>\u001b[0;34m()\u001b[0m\n\u001b[1;32m      1\u001b[0m \u001b[0;32mprint\u001b[0m \u001b[0;34m'Page Rank execution...'\u001b[0m\u001b[0;34m\u001b[0m\u001b[0m\n\u001b[0;32m----> 2\u001b[0;31m \u001b[0mpagerank\u001b[0m\u001b[0;34m,\u001b[0m \u001b[0miterations\u001b[0m\u001b[0;34m,\u001b[0m \u001b[0merr\u001b[0m \u001b[0;34m=\u001b[0m \u001b[0mpr\u001b[0m\u001b[0;34m(\u001b[0m\u001b[0mg\u001b[0m\u001b[0;34m,\u001b[0m \u001b[0malpha\u001b[0m\u001b[0;34m=\u001b[0m\u001b[0;36m1.0e-5\u001b[0m\u001b[0;34m,\u001b[0m \u001b[0meps\u001b[0m\u001b[0;34m=\u001b[0m\u001b[0;36m1.0e-3\u001b[0m\u001b[0;34m)\u001b[0m\u001b[0;34m\u001b[0m\u001b[0m\n\u001b[0m\u001b[1;32m      3\u001b[0m \u001b[0;32mprint\u001b[0m \u001b[0miterations\u001b[0m\u001b[0;34m,\u001b[0m \u001b[0;34m' iterations. Error:'\u001b[0m\u001b[0;34m,\u001b[0m \u001b[0merr\u001b[0m\u001b[0;34m\u001b[0m\u001b[0m\n\u001b[1;32m      4\u001b[0m \u001b[0mtop_pr\u001b[0m \u001b[0;34m=\u001b[0m \u001b[0;34m[\u001b[0m\u001b[0ma\u001b[0m \u001b[0;32mfor\u001b[0m \u001b[0ma\u001b[0m\u001b[0;34m,\u001b[0m\u001b[0mb\u001b[0m \u001b[0;32min\u001b[0m \u001b[0mtopk\u001b[0m\u001b[0;34m(\u001b[0m\u001b[0mpagerank\u001b[0m\u001b[0;34m,\u001b[0m \u001b[0mseed\u001b[0m\u001b[0;34m)\u001b[0m\u001b[0;34m]\u001b[0m\u001b[0;34m\u001b[0m\u001b[0m\n\u001b[1;32m      5\u001b[0m \u001b[0;32mprint\u001b[0m \u001b[0mtopk\u001b[0m\u001b[0;34m(\u001b[0m\u001b[0mpagerank\u001b[0m\u001b[0;34m,\u001b[0m \u001b[0mseed\u001b[0m\u001b[0;34m)\u001b[0m\u001b[0;34m\u001b[0m\u001b[0m\n",
      "\u001b[0;32m/Users/francescofarina/uni/SRS/lab/dgraph.py\u001b[0m in \u001b[0;36mPage_Rank\u001b[0;34m(graph, alpha, max_iter, eps)\u001b[0m\n\u001b[1;32m    242\u001b[0m             \u001b[0;32mbreak\u001b[0m\u001b[0;34m\u001b[0m\u001b[0m\n\u001b[1;32m    243\u001b[0m         \u001b[0;32mif\u001b[0m \u001b[0mi\u001b[0m \u001b[0;34m>\u001b[0m \u001b[0mmax_iter\u001b[0m\u001b[0;34m:\u001b[0m\u001b[0;34m\u001b[0m\u001b[0m\n\u001b[0;32m--> 244\u001b[0;31m             \u001b[0;32mraise\u001b[0m \u001b[0mException\u001b[0m\u001b[0;34m(\u001b[0m\u001b[0;34m'Exceeded max number of iterations. Last error margin: %f'\u001b[0m \u001b[0;34m%\u001b[0m \u001b[0merr\u001b[0m\u001b[0;34m)\u001b[0m\u001b[0;34m\u001b[0m\u001b[0m\n\u001b[0m\u001b[1;32m    245\u001b[0m         \u001b[0mi\u001b[0m \u001b[0;34m+=\u001b[0m \u001b[0;36m1\u001b[0m\u001b[0;34m\u001b[0m\u001b[0m\n\u001b[1;32m    246\u001b[0m \u001b[0;34m\u001b[0m\u001b[0m\n",
      "\u001b[0;31mException\u001b[0m: Exceeded max number of iterations. Last error margin: 0.160555"
     ]
    }
   ],
   "source": [
    "print 'Page Rank execution...'\n",
    "pagerank, iterations, err = pr(g, alpha=1.0e-5, eps=1.0e-3)\n",
    "print iterations, ' iterations. Error:', err\n",
    "top_pr = [a for a,b in topk(pagerank, seed)]\n",
    "print topk(pagerank, seed)"
   ]
  },
  {
   "cell_type": "code",
   "execution_count": 8,
   "metadata": {
    "collapsed": false
   },
   "outputs": [
    {
     "name": "stdout",
     "output_type": "stream",
     "text": [
      "Eigenvector Centrality... Done\n"
     ]
    }
   ],
   "source": [
    "print 'Eigenvector Centrality...',\n",
    "cscores, diffsum = ec(g)\n",
    "top_eigenc = [a for a, b in topk(cscores, seed)]\n",
    "print 'Done'"
   ]
  },
  {
   "cell_type": "code",
   "execution_count": 9,
   "metadata": {
    "collapsed": false
   },
   "outputs": [
    {
     "name": "stdout",
     "output_type": "stream",
     "text": [
      "Betweennes centrality... Done\n"
     ]
    }
   ],
   "source": [
    "print 'Betweennes centrality...',\n",
    "bet = betweenness(g)\n",
    "top_bet = [a for a, b in topk(bet, seed)]\n",
    "print 'Done'"
   ]
  },
  {
   "cell_type": "markdown",
   "metadata": {},
   "source": [
    "## Execute Independent Cascade Model"
   ]
  },
  {
   "cell_type": "code",
   "execution_count": 10,
   "metadata": {
    "collapsed": false
   },
   "outputs": [
    {
     "name": "stdout",
     "output_type": "stream",
     "text": [
      "Independent Cascade Model: TOP 100 Page Rank\n",
      "\tFinal Adopters:\t189\n",
      "\tFinal Haters:\t6926\n",
      "\t# Iterations:\t6\n",
      "Independent Cascade Model: TOP 100 Eigenvector\n",
      "\tFinal Adopters:\t245\n",
      "\tFinal Haters:\t6870\n",
      "\t# Iterations:\t9\n",
      "Independent Cascade Model: TOP 100 Betweenness\n",
      "\tFinal Adopters:\t206\n",
      "\tFinal Haters:\t6909\n",
      "\t# Iterations:\t5\n"
     ]
    }
   ],
   "source": [
    "seed = 100\n",
    "max_pr_ad = independent_cascade(g, top_pr[:seed], 'Page Rank')\n",
    "max_eigenc_ad = independent_cascade(g, top_eigenc[:seed], 'Eigenvector')\n",
    "max_bet_ad = independent_cascade(g, top_bet[:seed], 'Betweenness')"
   ]
  },
  {
   "cell_type": "code",
   "execution_count": 11,
   "metadata": {
    "collapsed": false
   },
   "outputs": [
    {
     "name": "stdout",
     "output_type": "stream",
     "text": [
      "Independent Cascade Model: TOP 95 Page Rank\n",
      "\tFinal Adopters:\t171\n",
      "\tFinal Haters:\t6944\n",
      "\t# Iterations:\t6\n"
     ]
    }
   ],
   "source": [
    "while seed > 0:\n",
    "    seed -= 5\n",
    "    adopters_pr = independent_cascade(g, top_pr[:seed], 'Page Rank')\n",
    "    if max_pr_ad <= adopters_pr:\n",
    "        max_pr_ad = adopters_pr\n",
    "    else:\n",
    "        break\n",
    "        "
   ]
  },
  {
   "cell_type": "code",
   "execution_count": 12,
   "metadata": {
    "collapsed": false
   },
   "outputs": [
    {
     "name": "stdout",
     "output_type": "stream",
     "text": [
      "Independent Cascade Model: TOP 95 Eigenvector\n",
      "\tFinal Adopters:\t249\n",
      "\tFinal Haters:\t6866\n",
      "\t# Iterations:\t10\n",
      "Independent Cascade Model: TOP 90 Eigenvector\n",
      "\tFinal Adopters:\t223\n",
      "\tFinal Haters:\t6892\n",
      "\t# Iterations:\t5\n"
     ]
    }
   ],
   "source": [
    "seed = 100\n",
    "while seed > 0:\n",
    "    seed -= 5\n",
    "    adopters_eigenc = independent_cascade(g, top_eigenc[:seed], 'Eigenvector')\n",
    "    if max_eigenc_ad <= adopters_eigenc:\n",
    "        max_eigenc_ad = adopters_eigenc\n",
    "    else:\n",
    "        break\n",
    "         "
   ]
  },
  {
   "cell_type": "code",
   "execution_count": 13,
   "metadata": {
    "collapsed": false
   },
   "outputs": [
    {
     "name": "stdout",
     "output_type": "stream",
     "text": [
      "Independent Cascade Model: TOP 95 Betweenness\n",
      "\tFinal Adopters:\t249\n",
      "\tFinal Haters:\t6866\n",
      "\t# Iterations:\t6\n",
      "Independent Cascade Model: TOP 90 Betweenness\n",
      "\tFinal Adopters:\t200\n",
      "\tFinal Haters:\t6915\n",
      "\t# Iterations:\t5\n"
     ]
    }
   ],
   "source": [
    "seed = 100\n",
    "while seed > 0:\n",
    "    seed -= 5\n",
    "    adopters_bet = independent_cascade(g, top_bet[:seed], 'Betweenness')\n",
    "    if max_bet_ad <= adopters_bet:\n",
    "        max_bet_ad = adopters_bet\n",
    "    else:       \n",
    "        break\n",
    "    "
   ]
  },
  {
   "cell_type": "markdown",
   "metadata": {},
   "source": [
    "## Final adopters graphical comparison"
   ]
  },
  {
   "cell_type": "code",
   "execution_count": 20,
   "metadata": {
    "collapsed": false
   },
   "outputs": [
    {
     "data": {
      "image/png": "[encoded data removed]",
      "text/plain": [
       "<matplotlib.figure.Figure at 0x112a3d510>"
      ]
     },
     "metadata": {},
     "output_type": "display_data"
    }
   ],
   "source": [
    "max_adopters = (max_pr_ad, max_eigenc_ad, max_bet_ad)\n",
    "\n",
    "fig, ax = plt.subplots()\n",
    "\n",
    "bar_width = 0.35\n",
    "\n",
    "opacity = 0.4\n",
    "\n",
    "rects1 = plt.bar(1, max_pr_ad, bar_width,\n",
    "                 alpha=opacity,\n",
    "                 color='b',\n",
    "                 label='Page Rank')\n",
    "\n",
    "rects2 = plt.bar(2, max_eigenc_ad, bar_width,\n",
    "                 alpha=opacity,\n",
    "                 color='r',\n",
    "                 label='Eigenvector')\n",
    "\n",
    "rects3 = plt.bar(3, max_eigenc_ad, bar_width,\n",
    "                 alpha=opacity,\n",
    "                 color='y',\n",
    "                 label='Betweenness')\n",
    "\n",
    "plt.xlabel('Centrality Measures')\n",
    "plt.ylabel('Adopters')\n",
    "plt.title('Adopters Comparison')\n",
    "plt.xticks([1.2,2.2,3.2], ('PR', 'E', 'B'))\n",
    "\n",
    "plt.legend(bbox_to_anchor=(1.05, 1), loc=2, borderaxespad=0.)\n",
    "\n",
    "plt.tight_layout()"
   ]
  }
 ],
 "metadata": {
  "kernelspec": {
   "display_name": "Python 2",
   "language": "python",
   "name": "python2"
  },
  "language_info": {
   "codemirror_mode": {
    "name": "ipython",
    "version": 2
   },
   "file_extension": ".py",
   "mimetype": "text/x-python",
   "name": "python",
   "nbconvert_exporter": "python",
   "pygments_lexer": "ipython2",
   "version": "2.7.10"
  }
 },
 "nbformat": 4,
 "nbformat_minor": 0
}
