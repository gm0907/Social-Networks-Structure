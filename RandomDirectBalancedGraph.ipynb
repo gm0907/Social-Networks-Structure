{
 "cells": [
  {
   "cell_type": "code",
   "execution_count": 6,
   "metadata": {
    "collapsed": false
   },
   "outputs": [],
   "source": [
    "from lesson4 import topk\n",
    "from lesson4 import betweenness\n",
    "from mylesson5 import eigenvector_centrality as ec\n",
    "from dgraph import randomDirectBalancedGraph as rdbg\n",
    "from dgraph import Page_Rank as pr\n",
    "from dgraph import fill_incoming as fi\n",
    "from dgraph import Independent_Cascade as ic\n",
    "import networkx as nx"
   ]
  },
  {
   "cell_type": "code",
   "execution_count": 7,
   "metadata": {
    "collapsed": false
   },
   "outputs": [
    {
     "name": "stdout",
     "output_type": "stream",
     "text": [
      "Incoming edges stored\n"
     ]
    }
   ],
   "source": [
    "seed = 100\n",
    "g = rdbg(7115, 0.4, 75000, 125000)\n",
    "fi(g)\n",
    "print 'Incoming edges stored'\n",
    "#G = nx.from_dict_of_lists(g)\n",
    "#nx.draw(G)"
   ]
  },
  {
   "cell_type": "code",
   "execution_count": 8,
   "metadata": {
    "collapsed": false,
    "scrolled": false
   },
   "outputs": [
    {
     "name": "stdout",
     "output_type": "stream",
     "text": [
      "Page Rank execution...\n",
      "20  iterations. Error: 8.56421682183e-09\n",
      "[(726, 1.0), (2576, 0.9291378661754256), (3501, 0.8632904556066001), (3539, 0.8603236300259525), (919, 0.8510421408665415), (2744, 0.8365811491852344), (434, 0.8266446363107621), (2793, 0.81880704882255), (1589, 0.7887755820812266), (7097, 0.7859064146999722), (5970, 0.7838633510922665), (6093, 0.7656515431501517), (5959, 0.7650225783077972), (1404, 0.7568242163763742), (3599, 0.7549053586902351), (1054, 0.7452461323429667), (1777, 0.743399074560539), (6946, 0.739878606041982), (2247, 0.7361270586575126), (3681, 0.735219139893745), (2739, 0.7259121880155698), (5184, 0.7239893922173085), (2288, 0.7197671841673455), (4729, 0.7173199154043588), (3968, 0.710754707980194), (5879, 0.7100842058336976), (1242, 0.7090193044078842), (5416, 0.7054282373161705), (6831, 0.6994437741089453), (5838, 0.6983090921891123), (389, 0.697863702701714), (6770, 0.6965591403285057), (5450, 0.6960194997392377), (3193, 0.6945392743908495), (4163, 0.6941595066485813), (3802, 0.6930087454766177), (1411, 0.6902950581174883), (5770, 0.6891347825564904), (4431, 0.6884240818398898), (5295, 0.6878986395539215), (2366, 0.6865472685692049), (4480, 0.6852770220434578), (1237, 0.6840558914842111), (6199, 0.6823959013340432), (5695, 0.6788134864595705), (6942, 0.6769676369259844), (5527, 0.6768343805716007), (6986, 0.6757818215705637), (520, 0.6751466317672575), (1848, 0.674477557289833), (2371, 0.6738476569082704), (2882, 0.67321820596198), (27, 0.6729467827033677), (1868, 0.672280273005163), (6553, 0.6717232993974241), (3608, 0.6709110242776596), (1867, 0.6704161181650125), (5933, 0.6672983929787729), (4271, 0.6665470011448236), (3211, 0.6661054086967038), (2666, 0.6636482658918914), (2250, 0.6632584014949908), (4158, 0.6626729533752037), (862, 0.6622975310563807), (1928, 0.662234751237346), (5415, 0.6615696367123249), (2406, 0.6612515373753692), (5180, 0.6585533031854599), (6668, 0.6583168372911533), (4355, 0.6575023641391496), (6189, 0.6568235715035432), (246, 0.656509615710374), (687, 0.656503743510867), (7050, 0.6558225161346627), (2272, 0.6556599777895801), (617, 0.655436791235117), (5339, 0.6547330753192615), (1792, 0.6530646339079736), (1468, 0.6521915343410157), (2147, 0.6513377788850819), (3107, 0.6510383587066378), (2200, 0.650419008566929), (1979, 0.649297688024545), (1043, 0.648590129355397), (833, 0.6482029494701216), (5963, 0.6471819499045366), (1179, 0.645609181276498), (2840, 0.6455814852670578), (4018, 0.6455203599671611), (6399, 0.6443494292665843), (5225, 0.6434815956258598), (1150, 0.6434251579107189), (3788, 0.6430958338161608), (6485, 0.6428792620995216), (6094, 0.6422465488136607), (4075, 0.6419148858852242), (2766, 0.6418568052793123), (4970, 0.6407124129973426), (5810, 0.6405188983398338), (4225, 0.6403939069841298)]\n"
     ]
    }
   ],
   "source": [
    "print 'Page Rank execution...'\n",
    "pagerank, iterations, err = pr(g, alpha=1.0e-5, eps=1.0e-8) # alpha = 0.00001\n",
    "print iterations, ' iterations. Error:', err\n",
    "top_pr = [a for a,b in topk(pagerank, seed)]\n",
    "print topk(pagerank, seed)"
   ]
  },
  {
   "cell_type": "code",
   "execution_count": 9,
   "metadata": {
    "collapsed": false
   },
   "outputs": [
    {
     "name": "stdout",
     "output_type": "stream",
     "text": [
      "Independent Cascade\n",
      "Independent Cascade Model: TOP 100 Page Rank\n",
      "Final Adopters: 216\n",
      "Final Haters: 6899\n",
      "# Iterations: 8\n"
     ]
    }
   ],
   "source": [
    "print 'Independent Cascade'\n",
    "# Page Rank Seed\n",
    "adopters, haters, steps = ic(g, top_pr)\n",
    "print 'Independent Cascade Model: TOP %d Page Rank' % seed\n",
    "print 'Final Adopters:', len(adopters)\n",
    "print 'Final Haters:', len(haters)\n",
    "print '# Iterations:', steps"
   ]
  },
  {
   "cell_type": "code",
   "execution_count": 10,
   "metadata": {
    "collapsed": false
   },
   "outputs": [
    {
     "name": "stdout",
     "output_type": "stream",
     "text": [
      "Eigenvector Centrality\n",
      "[1210, 4994, 3596, 2078, 4945, 3303, 1759, 3576, 6242, 5769, 3216, 6151, 3827, 4114, 5766, 4364, 4695, 3059, 632, 4466, 4894, 5532, 5372, 4659, 249, 1236, 6118, 2557, 1041, 6943, 3344, 4092, 1887, 3333, 1401, 2665, 2785, 3666, 2025, 4073, 1282, 4419, 3672, 4152, 4014, 4109, 847, 3522, 1778, 3267, 3051, 1235, 3921, 1143, 2332, 3148, 2951, 3920, 6308, 5635, 4597, 3204, 6758, 6188, 3658, 2672, 2779, 285, 187, 6115, 5470, 6686, 1904, 2783, 6467, 2953, 5122, 1310, 612, 1166, 859, 3251, 2165, 4574, 2680, 4521, 6846, 4814, 4649, 6471, 4835, 4847, 2558, 6893, 3872, 6356, 4375, 1408, 4217, 2123]\n"
     ]
    }
   ],
   "source": [
    "print 'Eigenvector Centrality'\n",
    "cscores, diffsum = ec(g)\n",
    "top_eigenc = [a for a, b in topk(cscores, seed)]\n",
    "print top_eigenc"
   ]
  },
  {
   "cell_type": "code",
   "execution_count": 11,
   "metadata": {
    "collapsed": false
   },
   "outputs": [
    {
     "name": "stdout",
     "output_type": "stream",
     "text": [
      "Independent Cascade Model: TOP 100 Eigenvector\n",
      "Final Adopters: 243\n",
      "Final Haters: 6872\n",
      "# Iterations: 7\n"
     ]
    }
   ],
   "source": [
    "# Eigenvector Seed\n",
    "adopters, haters, steps = ic(g, top_eigenc)\n",
    "print 'Independent Cascade Model: TOP %d Eigenvector' % seed\n",
    "print 'Final Adopters:', len(adopters)\n",
    "print 'Final Haters:', len(haters)\n",
    "print '# Iterations:', steps"
   ]
  }
 ],
 "metadata": {
  "kernelspec": {
   "display_name": "Python 2",
   "language": "python",
   "name": "python2"
  },
  "language_info": {
   "codemirror_mode": {
    "name": "ipython",
    "version": 2
   },
   "file_extension": ".py",
   "mimetype": "text/x-python",
   "name": "python",
   "nbconvert_exporter": "python",
   "pygments_lexer": "ipython2",
   "version": "2.7.10"
  }
 },
 "nbformat": 4,
 "nbformat_minor": 0
}
