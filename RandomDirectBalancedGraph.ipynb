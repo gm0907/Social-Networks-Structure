{
 "cells": [
  {
   "cell_type": "code",
   "execution_count": 1,
   "metadata": {
    "collapsed": false
   },
   "outputs": [
    {
     "name": "stdout",
     "output_type": "stream",
     "text": [
      "Couldn't import dot_parser, loading of dot files will not be possible.\n"
     ]
    }
   ],
   "source": [
    "from lesson1 import averageClustering as ac\n",
    "from lesson4 import topk\n",
    "from lesson4 import betweenness\n",
    "from lesson5 import eigenvector_centrality as ec\n",
    "from dgraph import randomDirectBalancedGraph as rdbg\n",
    "from dgraph import Page_Rank as pr\n",
    "from dgraph import fill_incoming as fi\n",
    "from dgraph import Independent_Cascade as ic"
   ]
  }
 ],
 "metadata": {
  "kernelspec": {
   "display_name": "Python 2",
   "language": "python",
   "name": "python2"
  },
  "language_info": {
   "codemirror_mode": {
    "name": "ipython",
    "version": 2
   },
   "file_extension": ".py",
   "mimetype": "text/x-python",
   "name": "python",
   "nbconvert_exporter": "python",
   "pygments_lexer": "ipython2",
   "version": "2.7.10"
  }
 },
 "nbformat": 4,
 "nbformat_minor": 0
}
