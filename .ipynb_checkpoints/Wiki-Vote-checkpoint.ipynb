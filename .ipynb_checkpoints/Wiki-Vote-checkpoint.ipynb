{
 "cells": [
  {
   "cell_type": "markdown",
   "metadata": {},
   "source": [
    "# Wiki Vote Direct Graph"
   ]
  },
  {
   "cell_type": "code",
   "execution_count": 5,
   "metadata": {
    "collapsed": false,
    "scrolled": false
   },
   "outputs": [],
   "source": [
    "%matplotlib inline\n",
    "import random\n",
    "import matplotlib.pyplot as plt\n",
    "from dgraph import readGraph\n",
    "from lesson1 import averageClustering as ac\n",
    "from lesson2 import countEdges\n",
    "from lesson4 import topk\n",
    "from lesson4 import betweenness\n",
    "from lesson5 import eigenvector_centrality as ec\n",
    "from dgraph import randomDirectBalancedGraph as rdbg\n",
    "from dgraph import Page_Rank as pr\n",
    "from dgraph import fill_incoming as fi\n",
    "from dgraph import Independent_Cascade as ic\n",
    "from dgraph import toUndirect as und"
   ]
  },
  {
   "cell_type": "code",
   "execution_count": 6,
   "metadata": {
    "collapsed": true
   },
   "outputs": [],
   "source": [
    "def independent_cascade(graph, seed, centrality):\n",
    "    adopters, haters, steps = ic(g, seed)\n",
    "    print 'Independent Cascade Model: TOP %d %s' % (len(seed), centrality)\n",
    "    print '\\tFinal Adopters:\\t', len(adopters)\n",
    "    print '\\tFinal Haters:\\t', len(haters)\n",
    "    print '\\t# Iterations:\\t', steps\n",
    "    return len(adopters)"
   ]
  },
  {
   "cell_type": "markdown",
   "metadata": {},
   "source": [
    "## Set Parameters"
   ]
  },
  {
   "cell_type": "code",
   "execution_count": 7,
   "metadata": {
    "collapsed": false
   },
   "outputs": [],
   "source": [
    "seed = 100"
   ]
  },
  {
   "cell_type": "markdown",
   "metadata": {},
   "source": [
    "##Create a Random Direct Graph"
   ]
  },
  {
   "cell_type": "code",
   "execution_count": 8,
   "metadata": {
    "collapsed": false
   },
   "outputs": [],
   "source": [
    "g = readGraph('wiki-Vote.txt')\n",
    "#g = rdbg(7115, 0.5, random.randint(75000, 125000))\n",
    "print 'Edges %d\\tAverage Clustering = %f' % (countEdges(g)*2,ac(und(g)))\n",
    "fi(g)"
   ]
  },
  {
   "cell_type": "markdown",
   "metadata": {},
   "source": [
    "## Execute centrality measures"
   ]
  },
  {
   "cell_type": "code",
   "execution_count": 9,
   "metadata": {
    "collapsed": false
   },
   "outputs": [
    {
     "name": "stdout",
     "output_type": "stream",
     "text": [
      "Page Rank execution...\n",
      "54  iterations. Error: 0.000834968957836\n",
      "[('6634', 1.0), ('6946', 0.5388815801668778), ('8042', 0.5230323608841784), ('8163', 0.48873175173192646), ('2625', 0.33151632918504725), ('2398', 0.31633278580815455), ('15', 0.29856764187417545), ('4037', 0.28311324364876456), ('5412', 0.271869793162222), ('7632', 0.24957172027495889), ('4335', 0.24053090059422744), ('4191', 0.2238460618882194), ('2066', 0.21406800151142116), ('6832', 0.2112296644321304), ('7553', 0.2097457405846686), ('4828', 0.2088039558615282), ('737', 0.20853580931785468), ('3089', 0.20389591965423728), ('4712', 0.19983992286127394), ('7620', 0.19521392510821545), ('5233', 0.19496064497654889), ('3084', 0.19074468564917033), ('4310', 0.190201549734187), ('4875', 0.19007600458397284), ('3456', 0.18796594432376315), ('7092', 0.18796593969745856), ('5254', 0.18508510573234194), ('2328', 0.18457813461381353), ('1297', 0.18292913961256), ('2746', 0.1813495019320059), ('3334', 0.1743406396078723), ('3352', 0.17367518198565995), ('4735', 0.17290684529575928), ('2859', 0.17267660938617418), ('1549', 0.16643307884546846), ('5404', 0.16560613668761412), ('5484', 0.16443261596891307), ('762', 0.16336341351032058), ('2565', 0.16044119738212817), ('5123', 0.1603749374330692), ('7862', 0.15499010057587892), ('6334', 0.15408492518256733), ('2535', 0.15215455942290668), ('5079', 0.14998860487072826), ('3459', 0.14963385009470467), ('4400', 0.148793071276832), ('7882', 0.1436572651838979), ('5563', 0.1436092280254211), ('3898', 0.14316360556394345), ('3873', 0.14005495907999632), ('5423', 0.13900518920690486), ('2657', 0.1323470139649684), ('3897', 0.13184038987302926), ('3976', 0.13112916969461158), ('7809', 0.1285267025720914), ('4536', 0.12790795257684184), ('7699', 0.12752503522172656), ('4798', 0.12615267379664027), ('3562', 0.12532877372139611), ('3238', 0.1250965259741689), ('4981', 0.12496946731966838), ('1754', 0.12421876619461326), ('3568', 0.12392282473395869), ('3117', 0.12340700072383048), ('6006', 0.12324095446303028), ('3962', 0.1227161239584176), ('6914', 0.12258251268872725), ('3034', 0.12178611025460964), ('2958', 0.12148051987079574), ('4531', 0.12077378041261644), ('4661', 0.12048136062099087), ('4666', 0.11853750756980425), ('1211', 0.11827342087013636), ('4983', 0.11660602110781063), ('2651', 0.11557555884743295), ('5022', 0.11501754841464985), ('5459', 0.11378004184443559), ('5210', 0.1135367266623479), ('5605', 0.11336452778064549), ('2576', 0.11051586156658705), ('8294', 0.10777567285153591), ('2654', 0.10751370822706142), ('5800', 0.10728119294025408), ('4071', 0.10713319960896607), ('2237', 0.10680866819063317), ('3498', 0.1064337367035497), ('3260', 0.10583230662898255), ('7961', 0.10547452857309747), ('2585', 0.10504294799465559), ('7890', 0.10424370028876048), ('6784', 0.10372331434653484), ('993', 0.10272423076286188), ('7414', 0.10239564119632304), ('6004', 0.10201722389428948), ('825', 0.10186928726440617), ('3394', 0.10165833165608251), ('4827', 0.10124176867956583), ('6414', 0.1012188978125902), ('3005', 0.10107196406334386), ('5002', 0.10074123725042963)]\n"
     ]
    }
   ],
   "source": [
    "print 'Page Rank execution...'\n",
    "pagerank, iterations, err = pr(g, alpha=1.0e-5, eps=1.0e-3)\n",
    "print iterations, ' iterations. Error:', err\n",
    "top_pr = [a for a,b in topk(pagerank, seed)]\n",
    "print topk(pagerank, seed)"
   ]
  },
  {
   "cell_type": "code",
   "execution_count": 8,
   "metadata": {
    "collapsed": false
   },
   "outputs": [
    {
     "name": "stdout",
     "output_type": "stream",
     "text": [
      "Eigenvector Centrality... Done\n"
     ]
    }
   ],
   "source": [
    "print 'Eigenvector Centrality...',\n",
    "cscores, diffsum = ec(g)\n",
    "top_eigenc = [a for a, b in topk(cscores, seed)]\n",
    "print 'Done'"
   ]
  },
  {
   "cell_type": "code",
   "execution_count": 9,
   "metadata": {
    "collapsed": false
   },
   "outputs": [
    {
     "name": "stdout",
     "output_type": "stream",
     "text": [
      "Betweennes centrality... Done\n"
     ]
    }
   ],
   "source": [
    "print 'Betweennes centrality...',\n",
    "bet = betweenness(g)\n",
    "top_bet = [a for a, b in topk(bet, seed)]\n",
    "print 'Done'"
   ]
  },
  {
   "cell_type": "markdown",
   "metadata": {},
   "source": [
    "## Execute Independent Cascade Model"
   ]
  },
  {
   "cell_type": "code",
   "execution_count": 10,
   "metadata": {
    "collapsed": false
   },
   "outputs": [
    {
     "name": "stdout",
     "output_type": "stream",
     "text": [
      "Independent Cascade Model: TOP 100 Page Rank\n",
      "\tFinal Adopters:\t189\n",
      "\tFinal Haters:\t6926\n",
      "\t# Iterations:\t6\n",
      "Independent Cascade Model: TOP 100 Eigenvector\n",
      "\tFinal Adopters:\t245\n",
      "\tFinal Haters:\t6870\n",
      "\t# Iterations:\t9\n",
      "Independent Cascade Model: TOP 100 Betweenness\n",
      "\tFinal Adopters:\t206\n",
      "\tFinal Haters:\t6909\n",
      "\t# Iterations:\t5\n"
     ]
    }
   ],
   "source": [
    "seed = 100\n",
    "max_pr_ad = independent_cascade(g, top_pr[:seed], 'Page Rank')\n",
    "max_eigenc_ad = independent_cascade(g, top_eigenc[:seed], 'Eigenvector')\n",
    "max_bet_ad = independent_cascade(g, top_bet[:seed], 'Betweenness')"
   ]
  },
  {
   "cell_type": "code",
   "execution_count": 11,
   "metadata": {
    "collapsed": false
   },
   "outputs": [
    {
     "name": "stdout",
     "output_type": "stream",
     "text": [
      "Independent Cascade Model: TOP 95 Page Rank\n",
      "\tFinal Adopters:\t171\n",
      "\tFinal Haters:\t6944\n",
      "\t# Iterations:\t6\n"
     ]
    }
   ],
   "source": [
    "while seed > 0:\n",
    "    seed -= 5\n",
    "    adopters_pr = independent_cascade(g, top_pr[:seed], 'Page Rank')\n",
    "    if max_pr_ad <= adopters_pr:\n",
    "        max_pr_ad = adopters_pr\n",
    "    else:\n",
    "        break\n",
    "        "
   ]
  },
  {
   "cell_type": "code",
   "execution_count": 12,
   "metadata": {
    "collapsed": false
   },
   "outputs": [
    {
     "name": "stdout",
     "output_type": "stream",
     "text": [
      "Independent Cascade Model: TOP 95 Eigenvector\n",
      "\tFinal Adopters:\t249\n",
      "\tFinal Haters:\t6866\n",
      "\t# Iterations:\t10\n",
      "Independent Cascade Model: TOP 90 Eigenvector\n",
      "\tFinal Adopters:\t223\n",
      "\tFinal Haters:\t6892\n",
      "\t# Iterations:\t5\n"
     ]
    }
   ],
   "source": [
    "seed = 100\n",
    "while seed > 0:\n",
    "    seed -= 5\n",
    "    adopters_eigenc = independent_cascade(g, top_eigenc[:seed], 'Eigenvector')\n",
    "    if max_eigenc_ad <= adopters_eigenc:\n",
    "        max_eigenc_ad = adopters_eigenc\n",
    "    else:\n",
    "        break\n",
    "         "
   ]
  },
  {
   "cell_type": "code",
   "execution_count": 13,
   "metadata": {
    "collapsed": false
   },
   "outputs": [
    {
     "name": "stdout",
     "output_type": "stream",
     "text": [
      "Independent Cascade Model: TOP 95 Betweenness\n",
      "\tFinal Adopters:\t249\n",
      "\tFinal Haters:\t6866\n",
      "\t# Iterations:\t6\n",
      "Independent Cascade Model: TOP 90 Betweenness\n",
      "\tFinal Adopters:\t200\n",
      "\tFinal Haters:\t6915\n",
      "\t# Iterations:\t5\n"
     ]
    }
   ],
   "source": [
    "seed = 100\n",
    "while seed > 0:\n",
    "    seed -= 5\n",
    "    adopters_bet = independent_cascade(g, top_bet[:seed], 'Betweenness')\n",
    "    if max_bet_ad <= adopters_bet:\n",
    "        max_bet_ad = adopters_bet\n",
    "    else:       \n",
    "        break\n",
    "    "
   ]
  },
  {
   "cell_type": "markdown",
   "metadata": {},
   "source": [
    "## Final adopters graphical comparison"
   ]
  },
  {
   "cell_type": "code",
   "execution_count": 20,
   "metadata": {
    "collapsed": false
   },
   "outputs": [
    {
     "data": {
      "image/png": "[encoded data removed]",
      "text/plain": [
       "<matplotlib.figure.Figure at 0x112a3d510>"
      ]
     },
     "metadata": {},
     "output_type": "display_data"
    }
   ],
   "source": [
    "max_adopters = (max_pr_ad, max_eigenc_ad, max_bet_ad)\n",
    "\n",
    "fig, ax = plt.subplots()\n",
    "\n",
    "bar_width = 0.35\n",
    "\n",
    "opacity = 0.4\n",
    "\n",
    "rects1 = plt.bar(1, max_pr_ad, bar_width,\n",
    "                 alpha=opacity,\n",
    "                 color='b',\n",
    "                 label='Page Rank')\n",
    "\n",
    "rects2 = plt.bar(2, max_eigenc_ad, bar_width,\n",
    "                 alpha=opacity,\n",
    "                 color='r',\n",
    "                 label='Eigenvector')\n",
    "\n",
    "rects3 = plt.bar(3, max_eigenc_ad, bar_width,\n",
    "                 alpha=opacity,\n",
    "                 color='y',\n",
    "                 label='Betweenness')\n",
    "\n",
    "plt.xlabel('Centrality Measures')\n",
    "plt.ylabel('Adopters')\n",
    "plt.title('Adopters Comparison')\n",
    "plt.xticks([1.2,2.2,3.2], ('PR', 'E', 'B'))\n",
    "\n",
    "plt.legend(bbox_to_anchor=(1.05, 1), loc=2, borderaxespad=0.)\n",
    "\n",
    "plt.tight_layout()"
   ]
  }
 ],
 "metadata": {
  "kernelspec": {
   "display_name": "Python 2",
   "language": "python",
   "name": "python2"
  },
  "language_info": {
   "codemirror_mode": {
    "name": "ipython",
    "version": 2
   },
   "file_extension": ".py",
   "mimetype": "text/x-python",
   "name": "python",
   "nbconvert_exporter": "python",
   "pygments_lexer": "ipython2",
   "version": "2.7.10"
  }
 },
 "nbformat": 4,
 "nbformat_minor": 0
}
