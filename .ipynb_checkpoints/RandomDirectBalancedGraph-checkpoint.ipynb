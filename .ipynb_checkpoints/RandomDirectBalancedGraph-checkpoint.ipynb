{
 "cells": [
  {
   "cell_type": "code",
   "execution_count": 1,
   "metadata": {
    "collapsed": false
   },
   "outputs": [
    {
     "name": "stdout",
     "output_type": "stream",
     "text": [
      "Couldn't import dot_parser, loading of dot files will not be possible.\n"
     ]
    }
   ],
   "source": [
    "from lesson1 import averageClustering as ac\n",
    "from lesson4 import topk\n",
    "from lesson4 import betweenness\n",
    "from mylesson5 import eigenvector_centrality as ec\n",
    "from dgraph import randomDirectBalancedGraph as rdbg\n",
    "from dgraph import Page_Rank as pr\n",
    "from dgraph import fill_incoming as fi\n",
    "from dgraph import Independent_Cascade as ic"
   ]
  },
  {
   "cell_type": "code",
   "execution_count": 2,
   "metadata": {
    "collapsed": false
   },
   "outputs": [
    {
     "name": "stdout",
     "output_type": "stream",
     "text": [
      "Incoming edges stored\n"
     ]
    }
   ],
   "source": [
    "seed = 100\n",
    "g = rdbg(7115, 0.4, 75000, 125000)\n",
    "fi(g)\n",
    "print 'Incoming edges stored'"
   ]
  },
  {
   "cell_type": "code",
   "execution_count": 3,
   "metadata": {
    "collapsed": false,
    "scrolled": false
   },
   "outputs": [
    {
     "name": "stdout",
     "output_type": "stream",
     "text": [
      "Page Rank execution...\n",
      "21  iterations. Error: 7.39584908593e-09\n",
      "[(6967, 1.0), (963, 0.9464492605653568), (2670, 0.905748292289578), (449, 0.9005098282528562), (3773, 0.8954610674652521), (5912, 0.8932865153711316), (291, 0.8893183935967528), (7016, 0.8743328992829129), (3904, 0.8657281952014402), (476, 0.862982626566797), (4812, 0.8567264832610052), (3762, 0.8535706937442481), (2039, 0.8426828893612764), (1616, 0.8416308320154058), (4456, 0.8415023209347178), (5234, 0.8366251425454825), (1868, 0.8354737793711562), (6343, 0.8316814589644006), (5238, 0.8315434403518968), (3625, 0.8266965749415642), (1272, 0.8236260130942444), (5516, 0.8230993675252228), (258, 0.8194045594631075), (2148, 0.8193849560783097), (2758, 0.8190335691713078), (4496, 0.8167547679379525), (2012, 0.813799489878952), (4838, 0.8130672053490584), (4123, 0.8124256807692277), (2534, 0.8106234449203734), (3233, 0.8089080562209975), (4524, 0.8084653112991746), (1969, 0.8069409251162378), (6434, 0.806318416883268), (405, 0.805975663945573), (391, 0.8048852436893118), (2024, 0.8020982005091268), (3810, 0.7986030615252031), (5787, 0.7947648566689386), (5897, 0.7943773837532353), (5033, 0.7913231461668926), (149, 0.7905631857990355), (2795, 0.7881336425378059), (5048, 0.7853142884876911), (6913, 0.7838228340175153), (6309, 0.78043376097138), (4820, 0.7796899920222136), (1084, 0.7788692822375698), (2379, 0.7758375953944723), (6441, 0.7745179234811109), (5706, 0.7730732219097213), (640, 0.7728780777462849), (4437, 0.7717567305710782), (2459, 0.7712300992635194), (4873, 0.7690684134026092), (6926, 0.7690177491457183), (1499, 0.7682559994338625), (2511, 0.7681108060113843), (6452, 0.7676034386745209), (439, 0.7669922727840647), (3064, 0.7668213815767931), (4817, 0.7662590140733083), (1779, 0.7662355984345676), (6100, 0.7630320527925545), (4003, 0.7629719671179062), (1053, 0.7577740980359365), (4823, 0.7561039932708588), (6620, 0.7558380501233801), (815, 0.7556728760425657), (6011, 0.755302664352116), (3800, 0.7536962811962087), (7051, 0.7533834304377823), (2257, 0.7527773263040154), (3516, 0.7524273095022254), (1336, 0.7522545145934171), (6436, 0.7517996295391858), (1765, 0.7513600990495094), (6297, 0.7502839565634015), (853, 0.7486613692229235), (5382, 0.7464824943963378), (3335, 0.745392628383793), (3024, 0.7408505813390321), (2856, 0.7406374119191409), (3655, 0.7401418099167555), (354, 0.7398579641145706), (6652, 0.7394011743985806), (3607, 0.7385925369862751), (6421, 0.7361521563969763), (1914, 0.7360778918173347), (5927, 0.7354884335578173), (4694, 0.735244904898553), (621, 0.7350357637743014), (988, 0.7347347116747285), (6188, 0.7345577280502904), (4624, 0.7344206652954877), (3865, 0.7330077391740777), (1521, 0.7311492286955054), (3793, 0.7310457945568711), (708, 0.7305882397167849), (5035, 0.7288547602894605)]\n"
     ]
    }
   ],
   "source": [
    "print 'Page Rank execution...'\n",
    "pagerank, iterations, err = pr(g, alpha=1.0e-5, eps=1.0e-8) # alpha = 0.00001\n",
    "print iterations, ' iterations. Error:', err\n",
    "top_pr = [a for a,b in topk(pagerank, seed)]"
   ]
  },
  {
   "cell_type": "code",
   "execution_count": 4,
   "metadata": {
    "collapsed": false
   },
   "outputs": [
    {
     "name": "stdout",
     "output_type": "stream",
     "text": [
      "Independent Cascade\n",
      "Independent Cascade Model: TOP 100 Page Rank\n",
      "Final Adopters: 209\n",
      "Final Haters: 6906\n",
      "# Iterations: 6\n"
     ]
    }
   ],
   "source": [
    "print 'Independent Cascade'\n",
    "# Page Rank Seed\n",
    "adopters, haters, steps = ic(g, top_pr)\n",
    "print 'Independent Cascade Model: TOP %d Page Rank' % seed\n",
    "print 'Final Adopters:', len(adopters)\n",
    "print 'Final Haters:', len(haters)\n",
    "print '# Iterations:', steps"
   ]
  },
  {
   "cell_type": "code",
   "execution_count": 5,
   "metadata": {
    "collapsed": false
   },
   "outputs": [
    {
     "name": "stdout",
     "output_type": "stream",
     "text": [
      "Eigenvector Centrality\n",
      "[5077, 1698, 2817, 5228, 5098, 5905, 4048, 1570, 325, 4235, 3750, 739, 3837, 1522, 5462, 785, 2446, 3123, 1348, 2874, 881, 573, 1978, 6104, 6150, 5645, 299, 976, 1129, 149, 5534, 6840, 6411, 489, 2175, 4636, 5582, 3233, 1908, 5942, 85, 4806, 4438, 3331, 5194, 4028, 3411, 5768, 5801, 3524, 6133, 6094, 240, 1531, 945, 1271, 2057, 4402, 4034, 448, 3960, 2059, 2496, 1977, 6215, 2174, 2042, 7001, 2219, 5230, 1420, 6419, 696, 1074, 5757, 5858, 3671, 1834, 2970, 1449, 3491, 4047, 3877, 559, 3830, 5926, 2832, 5715, 5286, 987, 5110, 5382, 1408, 216, 286, 1164, 8, 5516, 6951, 971]\n"
     ]
    }
   ],
   "source": [
    "print 'Eigenvector Centrality'\n",
    "cscores, diffsum = ec(g)\n",
    "top_eigenc = [a for a, b in topk(cscores, seed)]\n",
    "print top_eigenc"
   ]
  },
  {
   "cell_type": "code",
   "execution_count": 6,
   "metadata": {
    "collapsed": false
   },
   "outputs": [
    {
     "name": "stdout",
     "output_type": "stream",
     "text": [
      "Independent Cascade Model: TOP 100 Eigenvector\n",
      "Final Adopters: 232\n",
      "Final Haters: 6883\n",
      "# Iterations: 9\n"
     ]
    }
   ],
   "source": [
    "# Eigenvector Seed\n",
    "adopters, haters, steps = ic(g, top_eigenc)\n",
    "print 'Independent Cascade Model: TOP %d Eigenvector' % seed\n",
    "print 'Final Adopters:', len(adopters)\n",
    "print 'Final Haters:', len(haters)\n",
    "print '# Iterations:', steps"
   ]
  }
 ],
 "metadata": {
  "kernelspec": {
   "display_name": "Python 2",
   "language": "python",
   "name": "python2"
  },
  "language_info": {
   "codemirror_mode": {
    "name": "ipython",
    "version": 2
   },
   "file_extension": ".py",
   "mimetype": "text/x-python",
   "name": "python",
   "nbconvert_exporter": "python",
   "pygments_lexer": "ipython2",
   "version": "2.7.10"
  }
 },
 "nbformat": 4,
 "nbformat_minor": 0
}
