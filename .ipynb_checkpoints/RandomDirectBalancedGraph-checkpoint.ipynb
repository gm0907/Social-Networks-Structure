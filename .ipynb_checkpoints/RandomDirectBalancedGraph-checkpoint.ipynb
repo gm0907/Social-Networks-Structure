{
 "cells": [
  {
   "cell_type": "code",
   "execution_count": 2,
   "metadata": {
    "collapsed": false
   },
   "outputs": [
    {
     "name": "stdout",
     "output_type": "stream",
     "text": [
      "Couldn't import dot_parser, loading of dot files will not be possible.\n"
     ]
    }
   ],
   "source": [
    "from lesson4 import topk\n",
    "from lesson4 import betweenness\n",
    "from mylesson5 import eigenvector_centrality as ec\n",
    "from dgraph import randomDirectBalancedGraph as rdbg\n",
    "from dgraph import Page_Rank as pr\n",
    "from dgraph import fill_incoming as fi\n",
    "from dgraph import Independent_Cascade as ic\n",
    "import networkx as nx"
   ]
  },
  {
   "cell_type": "code",
   "execution_count": 3,
   "metadata": {
    "collapsed": false
   },
   "outputs": [],
   "source": [
    "seed = 100\n",
    "g = rdbg(7115, 0.4, 75000, 125000)\n",
    "G = nx.from_dict_of_lists(g)\n",
    "nx.draw(G)"
   ]
  },
  {
   "cell_type": "code",
   "execution_count": 23,
   "metadata": {
    "collapsed": false
   },
   "outputs": [
    {
     "name": "stdout",
     "output_type": "stream",
     "text": [
      "Incoming edges stored\n",
      "Page Rank execution...\n",
      "23  iterations. Error: 3.24587904471e-09\n",
      "[1176, 6398, 1568, 5288, 4297, 7114, 6778, 2869, 4228, 4409, 6100, 7033, 2463, 7082, 2414, 6359, 2395, 817, 2780, 1513, 2017, 3040, 868, 3454, 1590, 5962, 4147, 6265, 6338, 5600, 6936, 3951, 6482, 6541, 2368, 1260, 2914, 2192, 3052, 3202, 125, 5968, 3789, 2917, 4274, 320, 1371, 2385, 1855, 558, 480, 1335, 3596, 5223, 5986, 2100, 812, 5646, 5295, 1343, 3032, 2724, 6200, 232, 4059, 4034, 1430, 5751, 2448, 741, 3416, 2544, 7092, 2446, 264, 6019, 2206, 1974, 5035, 5283, 2533, 6127, 6147, 586, 4980, 1844, 665, 3645, 5018, 175, 5008, 6228, 5154, 6671, 5760, 3647, 806, 2072, 2475, 287]\n"
     ]
    }
   ],
   "source": [
    "fi(g)\n",
    "print 'Incoming edges stored'\n",
    "print 'Page Rank execution...'\n",
    "pagerank, iterations, err = pr(g, alpha=1.0e-5, eps=1.0e-8) # alpha = 0.00001\n",
    "print iterations, ' iterations. Error:', err\n",
    "top_pr = [a for a,b in topk(pagerank, seed)]\n",
    "print top_pr"
   ]
  },
  {
   "cell_type": "code",
   "execution_count": 20,
   "metadata": {
    "collapsed": false
   },
   "outputs": [
    {
     "name": "stdout",
     "output_type": "stream",
     "text": [
      "Independent Cascade\n",
      "Independent Cascade Model: TOP 100 Page Rank\n",
      "Final Adopters: 189\n",
      "Final Haters: 6926\n",
      "# Iterations: 7\n"
     ]
    }
   ],
   "source": [
    "print 'Independent Cascade'\n",
    "# Page Rank Seed\n",
    "adopters, haters, steps = ic(g, top_pr)\n",
    "print 'Independent Cascade Model: TOP %d Page Rank' % seed\n",
    "print 'Final Adopters:', len(adopters)\n",
    "print 'Final Haters:', len(haters)\n",
    "print '# Iterations:', steps"
   ]
  },
  {
   "cell_type": "code",
   "execution_count": 24,
   "metadata": {
    "collapsed": false
   },
   "outputs": [
    {
     "name": "stdout",
     "output_type": "stream",
     "text": [
      "Eigenvector Centrality\n",
      "[712, 4293, 3238, 2351, 5192, 4582, 1546, 2586, 1995, 4752, 4485, 3913, 5588, 4733, 1021, 3812, 6476, 1820, 4145, 1550, 963, 559, 279, 3058, 6136, 5202, 912, 4398, 173, 5057, 133, 4989, 2924, 2112, 2055, 130, 6651, 2416, 3749, 4177, 824, 96, 5356, 1939, 1774, 4435, 6458, 6668, 4256, 3616, 6906, 2997, 6779, 6216, 3395, 4663, 3685, 3435, 250, 1231, 3159, 3023, 3990, 6341, 4981, 5069, 2824, 896, 6562, 3085, 5790, 1717, 5905, 1911, 6515, 3935, 5036, 2245, 5954, 2783, 2296, 4204, 3061, 3292, 4480, 6776, 1467, 3992, 2872, 1549, 6289, 5122, 6181, 5166, 1318, 1387, 2537, 6295, 6005, 3961]\n"
     ]
    }
   ],
   "source": [
    "print 'Eigenvector Centrality'\n",
    "cscores, diffsum = ec(g)\n",
    "top_eigenc = [a for a, b in topk(cscores, seed)]\n",
    "print top_eigenc"
   ]
  },
  {
   "cell_type": "code",
   "execution_count": 22,
   "metadata": {
    "collapsed": false
   },
   "outputs": [
    {
     "name": "stdout",
     "output_type": "stream",
     "text": [
      "Independent Cascade Model: TOP 100 Eigenvector\n",
      "Final Adopters: 278\n",
      "Final Haters: 6837\n",
      "# Iterations: 6\n"
     ]
    }
   ],
   "source": [
    "# Eigenvector Seed\n",
    "adopters, haters, steps = ic(g, top_eigenc)\n",
    "print 'Independent Cascade Model: TOP %d Eigenvector' % seed\n",
    "print 'Final Adopters:', len(adopters)\n",
    "print 'Final Haters:', len(haters)\n",
    "print '# Iterations:', steps"
   ]
  }
 ],
 "metadata": {
  "kernelspec": {
   "display_name": "Python 2",
   "language": "python",
   "name": "python2"
  },
  "language_info": {
   "codemirror_mode": {
    "name": "ipython",
    "version": 2
   },
   "file_extension": ".py",
   "mimetype": "text/x-python",
   "name": "python",
   "nbconvert_exporter": "python",
   "pygments_lexer": "ipython2",
   "version": "2.7.10"
  }
 },
 "nbformat": 4,
 "nbformat_minor": 0
}
