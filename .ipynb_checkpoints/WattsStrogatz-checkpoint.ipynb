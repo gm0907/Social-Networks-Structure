{
 "cells": [
  {
   "cell_type": "markdown",
   "metadata": {},
   "source": [
    "# Watts-Strogatz direct graph on the 2-dimensional space"
   ]
  },
  {
   "cell_type": "code",
   "execution_count": 1,
   "metadata": {
    "collapsed": false,
    "scrolled": false
   },
   "outputs": [],
   "source": [
    "%matplotlib inline\n",
    "import random\n",
    "import matplotlib.pyplot as plt\n",
    "from dgraph import readGraph\n",
    "from dgraph import standardize\n",
    "from dgraph import Page_Rank as pr\n",
    "from dgraph import fill_incoming as fi\n",
    "from dgraph import Independent_Cascade as ic\n",
    "from dgraph import GenWSGridGraph as genWS\n",
    "from dgraph import WS2DGraph as WS2D\n",
    "from lesson4 import topk\n",
    "from lesson5 import eigenvector_centrality as ec\n",
    "from lesson4 import betweenness\n",
    "from lesson1 import averageClustering as ac\n",
    "from lesson2 import countEdges\n",
    "from dgraph import toUndirect as und"
   ]
  },
  {
   "cell_type": "code",
   "execution_count": 2,
   "metadata": {
    "collapsed": true
   },
   "outputs": [],
   "source": [
    "def independent_cascade(graph, seed, centrality):\n",
    "    adopters, haters, steps = ic(g, seed)\n",
    "    print 'Independent Cascade Model: TOP %d %s' % (len(seed), centrality)\n",
    "    print '\\tFinal Adopters:\\t', len(adopters)\n",
    "    print '\\tFinal Haters:\\t', len(haters)\n",
    "    print '\\t# Iterations:\\t', steps\n",
    "    return len(adopters)"
   ]
  },
  {
   "cell_type": "markdown",
   "metadata": {},
   "source": [
    "## Set Parameters"
   ]
  },
  {
   "cell_type": "code",
   "execution_count": 3,
   "metadata": {
    "collapsed": false
   },
   "outputs": [],
   "source": [
    "NODES = 7115\n",
    "edges = random.randint(75000, 125000)\n",
    "radius = 2\n",
    "weak_ties = [i*5 for i in xrange(0, 3)]\n",
    "seed = 100"
   ]
  },
  {
   "cell_type": "markdown",
   "metadata": {},
   "source": [
    "##Create a Watts-Strogatz 2D direct graph"
   ]
  },
  {
   "cell_type": "code",
   "execution_count": 4,
   "metadata": {
    "collapsed": false
   },
   "outputs": [
    {
     "name": "stdout",
     "output_type": "stream",
     "text": [
      "Edges 123020\tAverage Clustering = 0.201524\n"
     ]
    }
   ],
   "source": [
    "g = standardize(WS2D(NODES, edges, radius, weak_ties))\n",
    "print 'Edges %d\\tAverage Clustering = %f' % (countEdges(g)*2,ac(und(g)))"
   ]
  },
  {
   "cell_type": "code",
   "execution_count": 5,
   "metadata": {
    "collapsed": false
   },
   "outputs": [],
   "source": [
    "fi(g) # Fill incoming edges"
   ]
  },
  {
   "cell_type": "markdown",
   "metadata": {},
   "source": [
    "## Execute centrality measures"
   ]
  },
  {
   "cell_type": "code",
   "execution_count": 6,
   "metadata": {
    "collapsed": false
   },
   "outputs": [
    {
     "name": "stdout",
     "output_type": "stream",
     "text": [
      "Page Rank execution...\n",
      "28  iterations. Error: 0.000732137760615\n"
     ]
    }
   ],
   "source": [
    "print 'Page Rank execution...'\n",
    "pagerank, iterations, err = pr(g, alpha=1.0e-5, eps=1.0e-3)\n",
    "print iterations, ' iterations. Error:', err\n",
    "top_pr = [a for a,b in topk(pagerank, seed)]"
   ]
  },
  {
   "cell_type": "code",
   "execution_count": 7,
   "metadata": {
    "collapsed": false
   },
   "outputs": [
    {
     "name": "stdout",
     "output_type": "stream",
     "text": [
      "Eigenvector Centrality... Done\n"
     ]
    }
   ],
   "source": [
    "print 'Eigenvector Centrality...',\n",
    "cscores, diffsum = ec(g)\n",
    "top_eigenc = [a for a, b in topk(cscores, seed)]\n",
    "print 'Done'"
   ]
  },
  {
   "cell_type": "code",
   "execution_count": 8,
   "metadata": {
    "collapsed": false
   },
   "outputs": [
    {
     "name": "stdout",
     "output_type": "stream",
     "text": [
      "Betweennes centrality... Done\n"
     ]
    }
   ],
   "source": [
    "print 'Betweennes centrality...',\n",
    "bet = betweenness(g)\n",
    "top_bet = [a for a, b in topk(bet, seed)]\n",
    "print 'Done'"
   ]
  },
  {
   "cell_type": "markdown",
   "metadata": {},
   "source": [
    "## Execute Independent Cascade Model"
   ]
  },
  {
   "cell_type": "code",
   "execution_count": 9,
   "metadata": {
    "collapsed": false
   },
   "outputs": [
    {
     "name": "stdout",
     "output_type": "stream",
     "text": [
      "Independent Cascade Model: TOP 100 Page Rank\n",
      "\tFinal Adopters:\t271\n",
      "\tFinal Haters:\t6844\n",
      "\t# Iterations:\t12\n",
      "Independent Cascade Model: TOP 100 Eigenvector\n",
      "\tFinal Adopters:\t188\n",
      "\tFinal Haters:\t6927\n",
      "\t# Iterations:\t6\n",
      "Independent Cascade Model: TOP 100 Betweenness\n",
      "\tFinal Adopters:\t203\n",
      "\tFinal Haters:\t6912\n",
      "\t# Iterations:\t8\n"
     ]
    }
   ],
   "source": [
    "seed = 100\n",
    "max_pr_ad = independent_cascade(g, top_pr[:seed], 'Page Rank')\n",
    "max_eigenc_ad = independent_cascade(g, top_eigenc[:seed], 'Eigenvector')\n",
    "max_bet_ad = independent_cascade(g, top_bet[:seed], 'Betweenness')"
   ]
  },
  {
   "cell_type": "code",
   "execution_count": 10,
   "metadata": {
    "collapsed": false
   },
   "outputs": [
    {
     "name": "stdout",
     "output_type": "stream",
     "text": [
      "Independent Cascade Model: TOP 95 Page Rank\n",
      "\tFinal Adopters:\t211\n",
      "\tFinal Haters:\t6904\n",
      "\t# Iterations:\t6\n"
     ]
    }
   ],
   "source": [
    "while seed > 0:\n",
    "    seed -= 5\n",
    "    adopters_pr = independent_cascade(g, top_pr[:seed], 'Page Rank')\n",
    "    if max_pr_ad <= adopters_pr:\n",
    "        max_pr_ad = adopters_pr\n",
    "    else:\n",
    "        break\n",
    "        "
   ]
  },
  {
   "cell_type": "code",
   "execution_count": 11,
   "metadata": {
    "collapsed": false
   },
   "outputs": [
    {
     "name": "stdout",
     "output_type": "stream",
     "text": [
      "Independent Cascade Model: TOP 95 Eigenvector\n",
      "\tFinal Adopters:\t224\n",
      "\tFinal Haters:\t6891\n",
      "\t# Iterations:\t8\n",
      "Independent Cascade Model: TOP 90 Eigenvector\n",
      "\tFinal Adopters:\t180\n",
      "\tFinal Haters:\t6935\n",
      "\t# Iterations:\t6\n"
     ]
    }
   ],
   "source": [
    "seed = 100\n",
    "while seed > 0:\n",
    "    seed -= 5\n",
    "    adopters_eigenc = independent_cascade(g, top_eigenc[:seed], 'Eigenvector')\n",
    "    if max_eigenc_ad <= adopters_eigenc:\n",
    "        max_eigenc_ad = adopters_eigenc\n",
    "    else:\n",
    "        break\n",
    "         "
   ]
  },
  {
   "cell_type": "code",
   "execution_count": 12,
   "metadata": {
    "collapsed": false
   },
   "outputs": [
    {
     "name": "stdout",
     "output_type": "stream",
     "text": [
      "Independent Cascade Model: TOP 95 Betweenness\n",
      "\tFinal Adopters:\t230\n",
      "\tFinal Haters:\t6885\n",
      "\t# Iterations:\t7\n",
      "Independent Cascade Model: TOP 90 Betweenness\n",
      "\tFinal Adopters:\t194\n",
      "\tFinal Haters:\t6921\n",
      "\t# Iterations:\t8\n"
     ]
    }
   ],
   "source": [
    "   \n",
    "seed = 100\n",
    "while seed > 0:\n",
    "    seed -= 5\n",
    "    adopters_bet = independent_cascade(g, top_bet[:seed], 'Betweenness')\n",
    "    if max_bet_ad <= adopters_bet:\n",
    "        max_bet_ad = adopters_bet\n",
    "    else:       \n",
    "        break\n",
    "    "
   ]
  },
  {
   "cell_type": "markdown",
   "metadata": {},
   "source": [
    "## Final adopters graphical comparison"
   ]
  },
  {
   "cell_type": "code",
   "execution_count": 13,
   "metadata": {
    "collapsed": false
   },
   "outputs": [
    {
     "data": {
      "image/png": "[encoded data removed]",
      "text/plain": [
       "<matplotlib.figure.Figure at 0x10d636450>"
      ]
     },
     "metadata": {},
     "output_type": "display_data"
    }
   ],
   "source": [
    "max_adopters = (max_pr_ad, max_eigenc_ad, max_bet_ad)\n",
    "\n",
    "fig, ax = plt.subplots()\n",
    "\n",
    "bar_width = 0.35\n",
    "\n",
    "opacity = 0.4\n",
    "\n",
    "rects1 = plt.bar(1, max_pr_ad, bar_width,\n",
    "                 alpha=opacity,\n",
    "                 color='b',\n",
    "                 label='Page Rank')\n",
    "\n",
    "rects2 = plt.bar(2, max_eigenc_ad, bar_width,\n",
    "                 alpha=opacity,\n",
    "                 color='r',\n",
    "                 label='Eigenvector')\n",
    "\n",
    "rects3 = plt.bar(3, max_eigenc_ad, bar_width,\n",
    "                 alpha=opacity,\n",
    "                 color='y',\n",
    "                 label='Betweenness')\n",
    "\n",
    "plt.xlabel('Centrality Measures')\n",
    "plt.ylabel('Adopters')\n",
    "plt.title('Adopters Comparison')\n",
    "plt.xticks([1.2,2.2,3.2], ('PR', 'E', 'B'))\n",
    "\n",
    "plt.legend(bbox_to_anchor=(1.05, 1), loc=2, borderaxespad=0.)\n",
    "\n",
    "plt.tight_layout()"
   ]
  }
 ],
 "metadata": {
  "kernelspec": {
   "display_name": "Python 2",
   "language": "python",
   "name": "python2"
  },
  "language_info": {
   "codemirror_mode": {
    "name": "ipython",
    "version": 2
   },
   "file_extension": ".py",
   "mimetype": "text/x-python",
   "name": "python",
   "nbconvert_exporter": "python",
   "pygments_lexer": "ipython2",
   "version": "2.7.10"
  }
 },
 "nbformat": 4,
 "nbformat_minor": 0
}
