{
 "cells": [
  {
   "cell_type": "code",
   "execution_count": 4,
   "metadata": {
    "collapsed": true
   },
   "outputs": [],
   "source": [
    "%matplotlib inline\n",
    "import matplotlib.pyplot as plt\n",
    "import random\n",
    "import numpy as np\n",
    "import powerlaw\n",
    "from dgraph import randomDirectBalancedGraph as rdbg\n",
    "from dgraph import fill_incoming as fi\n",
    "from dgraph import degree_distribution"
   ]
  },
  {
   "cell_type": "code",
   "execution_count": 5,
   "metadata": {
    "collapsed": false
   },
   "outputs": [],
   "source": [
    "def draw_powerlaw(graph):\n",
    "    dist = degree_distribution(graph)\n",
    "    results = powerlaw.Fit([t[1] for t in dist], fit_method='Likelihood', suppress_output=True)\n",
    "    plt.title('Alpha = %s' % results.power_law.alpha)\n",
    "    plt.loglog()\n",
    "    plt.grid(True)\n",
    "    plt.plot([t[0] for t in dist], [t[1] for t in dist])"
   ]
  },
  {
   "cell_type": "code",
   "execution_count": 6,
   "metadata": {
    "collapsed": false
   },
   "outputs": [],
   "source": [
    "NODES = 7115\n",
    "edges = random.randint(75000, 125000)\n",
    "p = 0.5 # probability\n",
    "seed = 100"
   ]
  },
  {
   "cell_type": "code",
   "execution_count": 7,
   "metadata": {
    "collapsed": false
   },
   "outputs": [
    {
     "name": "stderr",
     "output_type": "stream",
     "text": [
      "Calculating best minimal value for power law fit\n",
      "/usr/local/lib/python2.7/site-packages/powerlaw.py:691: RuntimeWarning: invalid value encountered in divide\n",
      "  (Theoretical_CDF * (1 - Theoretical_CDF))\n"
     ]
    },
    {
     "data": {
      "image/png": "[encoded data removed]",
      "text/plain": [
       "<matplotlib.figure.Figure at 0x111fcfed0>"
      ]
     },
     "metadata": {},
     "output_type": "display_data"
    }
   ],
   "source": [
    "g = rdbg(NODES, p, edges)\n",
    "fi(g)\n",
    "draw_powerlaw(g)"
   ]
  },
  {
   "cell_type": "code",
   "execution_count": null,
   "metadata": {
    "collapsed": true
   },
   "outputs": [],
   "source": []
  }
 ],
 "metadata": {
  "kernelspec": {
   "display_name": "Python 2",
   "language": "python",
   "name": "python2"
  },
  "language_info": {
   "codemirror_mode": {
    "name": "ipython",
    "version": 2
   },
   "file_extension": ".py",
   "mimetype": "text/x-python",
   "name": "python",
   "nbconvert_exporter": "python",
   "pygments_lexer": "ipython2",
   "version": "2.7.10"
  }
 },
 "nbformat": 4,
 "nbformat_minor": 0
}
