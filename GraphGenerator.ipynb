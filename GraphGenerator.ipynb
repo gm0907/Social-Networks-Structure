{
 "cells": [
  {
   "cell_type": "code",
   "execution_count": 27,
   "metadata": {
    "collapsed": true
   },
   "outputs": [],
   "source": [
    "from dgraph import randomDirectBalancedGraph as rdbg\n",
    "from lesson1 import averageClustering as ac\n",
    "from dgraph import toUndirect as und\n",
    "import pickle"
   ]
  },
  {
   "cell_type": "code",
   "execution_count": 28,
   "metadata": {
    "collapsed": false
   },
   "outputs": [
    {
     "name": "stdout",
     "output_type": "stream",
     "text": [
      "avgclust\tp\n",
      "(0.0047395725954822, 0.1)\n",
      "(0.004753372509443255, 0.30000000000000004)\n",
      "min_e ->  125000\n",
      "max_e ->  250000\n",
      "(0.005639879467447988, 0.1)\n",
      "(0.008304788456106452, 0.2)\n",
      "(0.00863218281358388, 0.5)\n",
      "(0.00886081095798349, 0.6)\n",
      "(0.009836753063543395, 0.7999999999999999)\n",
      "min_e ->  250000\n",
      "max_e ->  500000\n",
      "(0.016123545799834847, 0.1)\n",
      "(0.017397990788038095, 0.2)\n",
      "(0.01799469000508297, 0.9999999999999999)\n",
      "min_e ->  500000\n",
      "max_e ->  1000000\n"
     ]
    },
    {
     "ename": "KeyboardInterrupt",
     "evalue": "",
     "output_type": "error",
     "traceback": [
      "\u001b[0;31m---------------------------------------------------------------------------\u001b[0m",
      "\u001b[0;31mKeyboardInterrupt\u001b[0m                         Traceback (most recent call last)",
      "\u001b[0;32m<ipython-input-28-07b42738a267>\u001b[0m in \u001b[0;36m<module>\u001b[0;34m()\u001b[0m\n\u001b[1;32m     13\u001b[0m     \u001b[0mgood_graph_found\u001b[0m \u001b[0;34m=\u001b[0m \u001b[0mFalse\u001b[0m\u001b[0;34m\u001b[0m\u001b[0m\n\u001b[1;32m     14\u001b[0m     \u001b[0;32mwhile\u001b[0m \u001b[0mp\u001b[0m \u001b[0;34m<=\u001b[0m \u001b[0;36m1\u001b[0m\u001b[0;34m:\u001b[0m\u001b[0;34m\u001b[0m\u001b[0m\n\u001b[0;32m---> 15\u001b[0;31m         \u001b[0mg\u001b[0m \u001b[0;34m=\u001b[0m \u001b[0mrdbg\u001b[0m\u001b[0;34m(\u001b[0m\u001b[0;36m7115\u001b[0m\u001b[0;34m,\u001b[0m \u001b[0mp\u001b[0m\u001b[0;34m,\u001b[0m \u001b[0mmin_e\u001b[0m\u001b[0;34m,\u001b[0m \u001b[0mmax_e\u001b[0m\u001b[0;34m)\u001b[0m\u001b[0;34m\u001b[0m\u001b[0m\n\u001b[0m\u001b[1;32m     16\u001b[0m         \u001b[0mavgclust\u001b[0m \u001b[0;34m=\u001b[0m \u001b[0mac\u001b[0m\u001b[0;34m(\u001b[0m\u001b[0mund\u001b[0m\u001b[0;34m(\u001b[0m\u001b[0mg\u001b[0m\u001b[0;34m)\u001b[0m\u001b[0;34m)\u001b[0m\u001b[0;34m\u001b[0m\u001b[0m\n\u001b[1;32m     17\u001b[0m         \u001b[0;32mif\u001b[0m \u001b[0mavgclust\u001b[0m \u001b[0;34m>\u001b[0m \u001b[0mmax_avgc_p\u001b[0m\u001b[0;34m[\u001b[0m\u001b[0;36m0\u001b[0m\u001b[0;34m]\u001b[0m\u001b[0;34m:\u001b[0m\u001b[0;34m\u001b[0m\u001b[0m\n",
      "\u001b[0;32m/Users/francescofarina/uni/SRS/lab/dgraph.py\u001b[0m in \u001b[0;36mrandomDirectBalancedGraph\u001b[0;34m(n, p, min_edges, max_edges)\u001b[0m\n\u001b[1;32m     66\u001b[0m                 \u001b[0;32mif\u001b[0m \u001b[0;34m(\u001b[0m\u001b[0mv1\u001b[0m \u001b[0;34m!=\u001b[0m \u001b[0mv2\u001b[0m\u001b[0;34m)\u001b[0m \u001b[0;32mand\u001b[0m \u001b[0mv2\u001b[0m \u001b[0;32mnot\u001b[0m \u001b[0;32min\u001b[0m \u001b[0mgraph\u001b[0m\u001b[0;34m[\u001b[0m\u001b[0mv1\u001b[0m\u001b[0;34m]\u001b[0m\u001b[0;34m:\u001b[0m\u001b[0;34m\u001b[0m\u001b[0m\n\u001b[1;32m     67\u001b[0m                     \u001b[0mfind_pair\u001b[0m \u001b[0;34m=\u001b[0m \u001b[0mTrue\u001b[0m\u001b[0;34m;\u001b[0m\u001b[0;34m\u001b[0m\u001b[0m\n\u001b[0;32m---> 68\u001b[0;31m             \u001b[0;31m# random graph property\u001b[0m\u001b[0;34m\u001b[0m\u001b[0;34m\u001b[0m\u001b[0m\n\u001b[0m\u001b[1;32m     69\u001b[0m             \u001b[0mr\u001b[0m \u001b[0;34m=\u001b[0m \u001b[0mrandom\u001b[0m\u001b[0;34m.\u001b[0m\u001b[0mrandom\u001b[0m\u001b[0;34m(\u001b[0m\u001b[0;34m)\u001b[0m\u001b[0;34m\u001b[0m\u001b[0m\n\u001b[1;32m     70\u001b[0m             \u001b[0;32mif\u001b[0m \u001b[0mr\u001b[0m \u001b[0;34m<=\u001b[0m \u001b[0mp\u001b[0m\u001b[0;34m:\u001b[0m\u001b[0;34m\u001b[0m\u001b[0m\n",
      "\u001b[0;31mKeyboardInterrupt\u001b[0m: "
     ]
    }
   ],
   "source": [
    "NUM_GRAPHS = 5\n",
    "\n",
    "good_graphs = []\n",
    "p = 0.1\n",
    "eps = 0.1\n",
    "max_avgc_p = (0, p)\n",
    "min_e = 75000\n",
    "max_e = 125000\n",
    "\n",
    "print 'avgclust\\tp'\n",
    "while len(good_graphs) <= NUM_GRAPHS:\n",
    "    p = 0.1\n",
    "    good_graph_found = False\n",
    "    while p <= 1:\n",
    "        g = rdbg(7115, p, min_e, max_e)\n",
    "        avgclust = ac(und(g))\n",
    "        if avgclust > max_avgc_p[0]:\n",
    "            max_avgc_p = (avgclust, p)\n",
    "            print max_avgc_p\n",
    "\n",
    "        if 0.1 <= avgclust <= 0.2:\n",
    "            good_graphs.append(g)\n",
    "            good_graph_found = True\n",
    "            print 'GRAPH FOUND! %s %s %s' % (p, min_e, max_e)\n",
    "        elif avgclust < lowc:\n",
    "            if p + eps < 1:\n",
    "                p += eps\n",
    "            else:\n",
    "                break\n",
    "        elif avgclust > highc:\n",
    "            if p - eps > 0:\n",
    "                p -= eps\n",
    "            else:\n",
    "                break\n",
    "    if not good_graph_found:\n",
    "        print 'min_e -> ', max_e\n",
    "        min_e = max_e\n",
    "        max_e *= 2\n",
    "        print 'max_e -> ', max_e\n",
    "\n",
    "output = open('100_random_graphs.dat', 'w')\n",
    "pickle.dump(good_graphs, output)"
   ]
  }
 ],
 "metadata": {
  "kernelspec": {
   "display_name": "Python 2",
   "language": "python",
   "name": "python2"
  },
  "language_info": {
   "codemirror_mode": {
    "name": "ipython",
    "version": 2
   },
   "file_extension": ".py",
   "mimetype": "text/x-python",
   "name": "python",
   "nbconvert_exporter": "python",
   "pygments_lexer": "ipython2",
   "version": "2.7.10"
  }
 },
 "nbformat": 4,
 "nbformat_minor": 0
}
